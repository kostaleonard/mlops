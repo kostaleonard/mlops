{
 "cells": [
  {
   "cell_type": "markdown",
   "id": "44e8e8fd",
   "metadata": {},
   "source": [
    "# Model prototyping\n",
    "\n",
    "This notebook trains and publishes prototype models."
   ]
  },
  {
   "cell_type": "markdown",
   "id": "21eb91cc",
   "metadata": {},
   "source": [
    "## Change working directory to project root"
   ]
  },
  {
   "cell_type": "code",
   "execution_count": 1,
   "id": "56bedbba",
   "metadata": {},
   "outputs": [],
   "source": [
    "import os\n",
    "ROOT_DIRECTORIES = {'mlops', 'tests'}\n",
    "if set(os.listdir('.')).intersection(ROOT_DIRECTORIES) != ROOT_DIRECTORIES:\n",
    "    os.chdir('../../../../..')"
   ]
  },
  {
   "cell_type": "code",
   "execution_count": 2,
   "id": "da880e8a",
   "metadata": {},
   "outputs": [],
   "source": [
    "import os\n",
    "import numpy as np\n",
    "import matplotlib.pyplot as plt\n",
    "from ipywidgets.widgets import IntSlider, interact\n",
    "from tensorflow.keras.models import Model, Sequential\n",
    "from tensorflow.keras.layers import Conv2D, MaxPooling2D, Dense, Flatten, \\\n",
    "    Dropout\n",
    "from mlops.dataset.versioned_dataset import VersionedDataset\n",
    "from mlops.examples.image.classification.train_model import train_model, \\\n",
    "    publish_model\n",
    "from mlops.examples.image.classification.pokemon_classification_data_processor \\\n",
    "    import PokemonClassificationDataProcessor"
   ]
  },
  {
   "cell_type": "code",
   "execution_count": 3,
   "id": "8a98423b",
   "metadata": {},
   "outputs": [],
   "source": [
    "DATASET_PUBLICATION_PATH_LOCAL = 'datasets/pokemon'\n",
    "DATASET_VERSION = 'v1'\n",
    "MODEL_PUBLICATION_PATH_LOCAL = 'models/pokemon'\n",
    "MODEL_CHECKPOINT_FILENAME = 'models/pokemon/checkpoints/model_best.h5'"
   ]
  },
  {
   "cell_type": "markdown",
   "id": "8b855fd2",
   "metadata": {},
   "source": [
    "## Retrieve versioned dataset"
   ]
  },
  {
   "cell_type": "code",
   "execution_count": 4,
   "id": "5b74f11d",
   "metadata": {},
   "outputs": [],
   "source": [
    "dataset = VersionedDataset(os.path.join(DATASET_PUBLICATION_PATH_LOCAL,\n",
    "                                        DATASET_VERSION))"
   ]
  },
  {
   "cell_type": "markdown",
   "id": "47c84674",
   "metadata": {},
   "source": [
    "## Define prototype model"
   ]
  },
  {
   "cell_type": "code",
   "execution_count": 5,
   "id": "74f671e0",
   "metadata": {},
   "outputs": [
    {
     "name": "stderr",
     "output_type": "stream",
     "text": [
      "2021-12-14 15:48:57.000125: I tensorflow/core/platform/cpu_feature_guard.cc:151] This TensorFlow binary is optimized with oneAPI Deep Neural Network Library (oneDNN) to use the following CPU instructions in performance-critical operations:  AVX2 FMA\n",
      "To enable them in other operations, rebuild TensorFlow with the appropriate compiler flags.\n"
     ]
    }
   ],
   "source": [
    "model = Sequential()\n",
    "# Shape: (None, 120, 120, 3).\n",
    "model.add(Conv2D(16, (3, 3), activation='relu',\n",
    "                 input_shape=dataset.X_train.shape[1:]))\n",
    "# Shape: (None, 118, 118, 16).\n",
    "model.add(MaxPooling2D((2, 2)))\n",
    "# Shape: (None, 59, 59, 16).\n",
    "model.add(Conv2D(32, (3, 3), activation='relu'))\n",
    "# Shape: (None, 57, 57, 32).\n",
    "model.add(MaxPooling2D((2, 2)))\n",
    "# Shape: (None, 28, 28, 32).\n",
    "model.add(Conv2D(64, (3, 3), activation='relu'))\n",
    "# Shape: (None, 26, 26, 64).\n",
    "model.add(MaxPooling2D((2, 2)))\n",
    "# Shape: (None, 13, 13, 64).\n",
    "model.add(Conv2D(128, (3, 3), activation='relu'))\n",
    "# Shape: (None, 11, 11, 128).\n",
    "model.add(MaxPooling2D((2, 2)))\n",
    "# Shape: (None, 5, 5, 128).\n",
    "model.add(Conv2D(256, (3, 3), activation='relu'))\n",
    "# Shape: (None, 3, 3, 256).\n",
    "model.add(Flatten())\n",
    "# Shape: (None, 2304).\n",
    "model.add(Dense(128, activation='relu'))\n",
    "# Shape: (None, 128).\n",
    "model.add(Dropout(0.4))\n",
    "# Shape: (None, 128).\n",
    "model.add(Dense(dataset.y_train.shape[1], activation='sigmoid'))\n",
    "# Shape: (None, 18).\n",
    "model.compile(optimizer='adam', loss='binary_crossentropy')"
   ]
  },
  {
   "cell_type": "markdown",
   "id": "8cc9571d",
   "metadata": {},
   "source": [
    "## Train and publish the versioned model"
   ]
  },
  {
   "cell_type": "code",
   "execution_count": 6,
   "id": "3e59142b",
   "metadata": {},
   "outputs": [
    {
     "name": "stdout",
     "output_type": "stream",
     "text": [
      "Epoch 1/5\n",
      "2/2 [==============================] - 1s 171ms/step - loss: 0.6785 - val_loss: 0.6109\n",
      "Epoch 2/5\n",
      "2/2 [==============================] - 0s 65ms/step - loss: 0.5594 - val_loss: 0.4247\n",
      "Epoch 3/5\n",
      "2/2 [==============================] - 0s 67ms/step - loss: 0.5053 - val_loss: 0.3940\n",
      "Epoch 4/5\n",
      "2/2 [==============================] - 0s 71ms/step - loss: 0.3449 - val_loss: 0.3151\n",
      "Epoch 5/5\n",
      "2/2 [==============================] - 0s 67ms/step - loss: 0.4068 - val_loss: 0.2870\n"
     ]
    }
   ],
   "source": [
    "training_config = train_model(\n",
    "    model,\n",
    "    dataset,\n",
    "    model_checkpoint_filename=MODEL_CHECKPOINT_FILENAME,\n",
    "    epochs=5,\n",
    "    batch_size=4)\n",
    "publish_model(\n",
    "    model,\n",
    "    dataset,\n",
    "    training_config,\n",
    "    MODEL_PUBLICATION_PATH_LOCAL,\n",
    "    tags=['prototype'])"
   ]
  },
  {
   "cell_type": "markdown",
   "id": "bb105707",
   "metadata": {},
   "source": [
    "## Examine results"
   ]
  },
  {
   "cell_type": "code",
   "execution_count": 7,
   "id": "3a37f8a8",
   "metadata": {},
   "outputs": [],
   "source": [
    "pred = PokemonClassificationDataProcessor.get_valid_prediction(\n",
    "    model.predict(dataset.X_val))\n",
    "pred = dataset.data_processor.unpreprocess_labels(pred)\n",
    "labels = dataset.data_processor.unpreprocess_labels(dataset.y_val)"
   ]
  },
  {
   "cell_type": "code",
   "execution_count": 8,
   "id": "c7c0725f",
   "metadata": {},
   "outputs": [
    {
     "data": {
      "application/vnd.jupyter.widget-view+json": {
       "model_id": "98ac96ce4ab846f2998f405cd0b1c7e9",
       "version_major": 2,
       "version_minor": 0
      },
      "text/plain": [
       "interactive(children=(IntSlider(value=0, description='idx', max=1), Output()), _dom_classes=('widget-interact'…"
      ]
     },
     "metadata": {},
     "output_type": "display_data"
    }
   ],
   "source": [
    "def show_img_and_pred(idx: int) -> None:\n",
    "    \"\"\"Plots the image at the given index and prints prediction info.\"\"\"\n",
    "    print(f'Validation image: {idx}')\n",
    "    print(f'Label: {labels[idx]}')\n",
    "    print(f'Prediction: {pred[idx]}')\n",
    "    fig = plt.imshow(dataset.X_val[idx])\n",
    "    plt.show()\n",
    "\n",
    "_ = interact(show_img_and_pred, idx=IntSlider(value=0,\n",
    "                                              min=0,\n",
    "                                              max=len(dataset.X_val) - 1,\n",
    "                                              step=1))"
   ]
  },
  {
   "cell_type": "code",
   "execution_count": 9,
   "id": "b969c713",
   "metadata": {},
   "outputs": [
    {
     "name": "stdout",
     "output_type": "stream",
     "text": [
      "hello new preprocessing\n"
     ]
    }
   ],
   "source": [
    "pre = dataset.data_processor.preprocess_features(dataset.X_train)"
   ]
  },
  {
   "cell_type": "code",
   "execution_count": 11,
   "id": "75643244",
   "metadata": {},
   "outputs": [
    {
     "name": "stderr",
     "output_type": "stream",
     "text": [
      "Clipping input data to the valid range for imshow with RGB data ([0..1] for floats or [0..255] for integers).\n"
     ]
    },
    {
     "data": {
      "text/plain": [
       "<matplotlib.image.AxesImage at 0x7fbfd998fc70>"
      ]
     },
     "execution_count": 11,
     "metadata": {},
     "output_type": "execute_result"
    },
    {
     "data": {
      "image/png": "[encoded data removed]",
      "text/plain": [
       "<Figure size 432x288 with 1 Axes>"
      ]
     },
     "metadata": {
      "needs_background": "light"
     },
     "output_type": "display_data"
    }
   ],
   "source": [
    "plt.imshow(pre[0])"
   ]
  },
  {
   "cell_type": "code",
   "execution_count": null,
   "id": "708908e5",
   "metadata": {},
   "outputs": [],
   "source": []
  }
 ],
 "metadata": {
  "kernelspec": {
   "display_name": "Python 3 (ipykernel)",
   "language": "python",
   "name": "python3"
  },
  "language_info": {
   "codemirror_mode": {
    "name": "ipython",
    "version": 3
   },
   "file_extension": ".py",
   "mimetype": "text/x-python",
   "name": "python",
   "nbconvert_exporter": "python",
   "pygments_lexer": "ipython3",
   "version": "3.9.7"
  }
 },
 "nbformat": 4,
 "nbformat_minor": 5
}
