{
 "cells": [
  {
   "cell_type": "markdown",
   "id": "44e8e8fd",
   "metadata": {},
   "source": [
    "# Model prototyping\n",
    "\n",
    "This notebook trains and publishes prototype models."
   ]
  },
  {
   "cell_type": "code",
   "execution_count": null,
   "id": "29037e4c",
   "metadata": {},
   "outputs": [],
   "source": [
    "# Add project root to path.\n",
    "import sys\n",
    "sys.path.append('../../../../..')"
   ]
  },
  {
   "cell_type": "code",
   "execution_count": null,
   "id": "da880e8a",
   "metadata": {},
   "outputs": [],
   "source": [
    "import os\n",
    "import numpy as np\n",
    "import matplotlib.pyplot as plt\n",
    "from ipywidgets.widgets import IntSlider, interact\n",
    "from tensorflow.keras.models import Model, Sequential\n",
    "from tensorflow.keras.layers import Conv2D, MaxPooling2D, Dense, Flatten, \\\n",
    "    Dropout\n",
    "from mlops.dataset.versioned_dataset import VersionedDataset\n",
    "from mlops.examples.image.classification.train_model import train_model, \\\n",
    "    publish_model\n",
    "from mlops.examples.image.classification.pokemon_classification_data_processor \\\n",
    "    import PokemonClassificationDataProcessor"
   ]
  },
  {
   "cell_type": "code",
   "execution_count": null,
   "id": "8a98423b",
   "metadata": {},
   "outputs": [],
   "source": [
    "DATASET_PUBLICATION_PATH_LOCAL = '../../../../../datasets/pokemon'\n",
    "DATASET_VERSION = 'v1'\n",
    "MODEL_PUBLICATION_PATH_LOCAL = '../../../../../models/pokemon'"
   ]
  },
  {
   "cell_type": "markdown",
   "id": "8b855fd2",
   "metadata": {},
   "source": [
    "## Retrieve versioned dataset"
   ]
  },
  {
   "cell_type": "code",
   "execution_count": null,
   "id": "5b74f11d",
   "metadata": {},
   "outputs": [],
   "source": [
    "dataset = VersionedDataset(os.path.join(DATASET_PUBLICATION_PATH_LOCAL,\n",
    "                                        DATASET_VERSION))"
   ]
  },
  {
   "cell_type": "markdown",
   "id": "47c84674",
   "metadata": {},
   "source": [
    "## Define prototype model"
   ]
  },
  {
   "cell_type": "code",
   "execution_count": null,
   "id": "74f671e0",
   "metadata": {},
   "outputs": [],
   "source": [
    "model = Sequential()\n",
    "# Shape: (None, 120, 120, 3).\n",
    "model.add(Conv2D(16, (3, 3), activation='relu',\n",
    "                 input_shape=dataset.X_train.shape[1:]))\n",
    "# Shape: (None, 118, 118, 16).\n",
    "model.add(MaxPooling2D((2, 2)))\n",
    "# Shape: (None, 59, 59, 16).\n",
    "model.add(Conv2D(32, (3, 3), activation='relu'))\n",
    "# Shape: (None, 57, 57, 32).\n",
    "model.add(MaxPooling2D((2, 2)))\n",
    "# Shape: (None, 28, 28, 32).\n",
    "model.add(Conv2D(64, (3, 3), activation='relu'))\n",
    "# Shape: (None, 26, 26, 64).\n",
    "model.add(MaxPooling2D((2, 2)))\n",
    "# Shape: (None, 13, 13, 64).\n",
    "model.add(Conv2D(128, (3, 3), activation='relu'))\n",
    "# Shape: (None, 11, 11, 128).\n",
    "model.add(MaxPooling2D((2, 2)))\n",
    "# Shape: (None, 5, 5, 128).\n",
    "model.add(Conv2D(256, (3, 3), activation='relu'))\n",
    "# Shape: (None, 3, 3, 256).\n",
    "model.add(Flatten())\n",
    "# Shape: (None, 2304).\n",
    "model.add(Dense(128, activation='relu'))\n",
    "# Shape: (None, 128).\n",
    "model.add(Dropout(0.4))\n",
    "# Shape: (None, 128).\n",
    "model.add(Dense(dataset.y_train.shape[1], activation='sigmoid'))\n",
    "# Shape: (None, 18).\n",
    "model.compile(optimizer='adam', loss='binary_crossentropy')"
   ]
  },
  {
   "cell_type": "markdown",
   "id": "8cc9571d",
   "metadata": {},
   "source": [
    "## Train and publish the versioned model"
   ]
  },
  {
   "cell_type": "code",
   "execution_count": null,
   "id": "3e59142b",
   "metadata": {},
   "outputs": [],
   "source": [
    "training_config = train_model(model,\n",
    "                              dataset,\n",
    "                              epochs=5,\n",
    "                              batch_size=4)\n",
    "publish_model(model,\n",
    "              dataset,\n",
    "              training_config,\n",
    "              MODEL_PUBLICATION_PATH_LOCAL,\n",
    "              tags=['prototype'])"
   ]
  },
  {
   "cell_type": "markdown",
   "id": "bb105707",
   "metadata": {},
   "source": [
    "## Examine results"
   ]
  },
  {
   "cell_type": "code",
   "execution_count": null,
   "id": "3a37f8a8",
   "metadata": {},
   "outputs": [],
   "source": [
    "pred = PokemonClassificationDataProcessor.get_valid_prediction(\n",
    "    model.predict(dataset.X_val))\n",
    "pred = dataset.data_processor.unpreprocess_labels(pred)\n",
    "labels = dataset.data_processor.unpreprocess_labels(dataset.y_val)"
   ]
  },
  {
   "cell_type": "code",
   "execution_count": null,
   "id": "f03bc2df",
   "metadata": {},
   "outputs": [],
   "source": [
    "def show_img_and_pred(idx: int) -> None:\n",
    "    \"\"\"Plots the image at the given index and prints prediction info.\"\"\"\n",
    "    print(f'Validation image: {idx}')\n",
    "    print(f'Label: {labels[idx]}')\n",
    "    print(f'Prediction: {pred[idx]}')\n",
    "    fig = plt.imshow(dataset.X_val[idx])\n",
    "    plt.show()\n",
    "\n",
    "_ = interact(show_img_and_pred, idx=IntSlider(value=0,\n",
    "                                              min=0,\n",
    "                                              max=len(dataset.X_val) - 1,\n",
    "                                              step=1))"
   ]
  },
  {
   "cell_type": "code",
   "execution_count": null,
   "id": "b969c713",
   "metadata": {},
   "outputs": [],
   "source": []
  }
 ],
 "metadata": {
  "kernelspec": {
   "display_name": "Python 3 (ipykernel)",
   "language": "python",
   "name": "python3"
  },
  "language_info": {
   "codemirror_mode": {
    "name": "ipython",
    "version": 3
   },
   "file_extension": ".py",
   "mimetype": "text/x-python",
   "name": "python",
   "nbconvert_exporter": "python",
   "pygments_lexer": "ipython3",
   "version": "3.9.7"
  }
 },
 "nbformat": 4,
 "nbformat_minor": 5
}
